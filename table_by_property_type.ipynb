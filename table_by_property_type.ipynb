{
 "cells": [
  {
   "cell_type": "code",
   "execution_count": 1,
   "id": "a0c8295d",
   "metadata": {},
   "outputs": [],
   "source": [
    "import pandas as pd\n"
   ]
  },
  {
   "cell_type": "code",
   "execution_count": 2,
   "id": "8d038e34",
   "metadata": {},
   "outputs": [],
   "source": [
    "data = pd.read_csv('select.csv')"
   ]
  },
  {
   "cell_type": "code",
   "execution_count": 3,
   "id": "72913a36",
   "metadata": {
    "scrolled": true
   },
   "outputs": [
    {
     "name": "stdout",
     "output_type": "stream",
     "text": [
      "                    suburb        new_type  affordability  pre1_diff  \\\n",
      "0    acacia-ridge-qld-4110  3.0 beds House     100.000000      40000   \n",
      "1    airport-west-vic-3042  4.0 beds House      35.294118     112000   \n",
      "2    albany-creek-qld-4035  3.0 beds House     100.000000      89500   \n",
      "3    albany-creek-qld-4035  4.0 beds House      97.916667      95000   \n",
      "4    albany-creek-qld-4035  5.0 beds House      90.000000     140000   \n",
      "..                     ...             ...            ...        ...   \n",
      "581       yagoona-nsw-2199  2.0 beds House      58.333333     122000   \n",
      "582       yagoona-nsw-2199  3.0 beds House      41.379310     195000   \n",
      "583       yagoona-nsw-2199  4.0 beds House      50.000000     137000   \n",
      "584    yarraville-vic-3013  3.0 beds House      22.222222      67500   \n",
      "585      zillmere-qld-4034  3.0 beds House     100.000000      79500   \n",
      "\n",
      "     pre3_diff  pre5_diff    price  pre1_price  pre3_price  pre5_price  \\\n",
      "0        50000      70000   460000      420000      410000      390000   \n",
      "1       192000     202000  1102000      990000      910000      900000   \n",
      "2       111750     135000   627000      537500      515250      492000   \n",
      "3        95000     125000   745000      650000      650000      620000   \n",
      "4       189750     205000   905000      765000      715250      700000   \n",
      "..         ...        ...      ...         ...         ...         ...   \n",
      "581     162000     182000   972000      850000      810000      790000   \n",
      "582     210000     218000  1025000      830000      815000      807000   \n",
      "583     182000     252000  1102000      965000      920000      850000   \n",
      "584      95000     315000  1195000     1127500     1100000      880000   \n",
      "585      80000     100000   560000      480500      480000      460000   \n",
      "\n",
      "     distance_to_cbd  pre1_growth_rate  pre3_growth_rate  pre5_growth_rate  \n",
      "0              14.24          9.523810         12.195122         17.948718  \n",
      "1              13.02         11.313131         21.098901         22.444444  \n",
      "2              14.64         16.651163         21.688501         27.439024  \n",
      "3              14.64         14.615385         14.615385         20.161290  \n",
      "4              14.64         18.300654         26.529186         29.285714  \n",
      "..               ...               ...               ...               ...  \n",
      "581            16.77         14.352941         20.000000         23.037975  \n",
      "582            16.77         23.493976         25.766871         27.013631  \n",
      "583            16.77         14.196891         19.782609         29.647059  \n",
      "584             6.86          5.986696          8.636364         35.795455  \n",
      "585            10.80         16.545265         16.666667         21.739130  \n",
      "\n",
      "[586 rows x 14 columns]\n"
     ]
    }
   ],
   "source": [
    "print(data)"
   ]
  },
  {
   "cell_type": "code",
   "execution_count": 5,
   "id": "75ce8cc0",
   "metadata": {},
   "outputs": [],
   "source": [
    "total_type = pd.read_csv('new_type_distinct.csv')"
   ]
  },
  {
   "cell_type": "code",
   "execution_count": 6,
   "id": "27868c27",
   "metadata": {},
   "outputs": [
    {
     "name": "stdout",
     "output_type": "stream",
     "text": [
      "                     new_type\n",
      "0  1.0 beds ApartmentUnitFlat\n",
      "1  2.0 beds ApartmentUnitFlat\n",
      "2              2.0 beds House\n",
      "3  3.0 beds ApartmentUnitFlat\n",
      "4              3.0 beds House\n",
      "5              4.0 beds House\n",
      "6              5.0 beds House\n"
     ]
    }
   ],
   "source": [
    "print(total_type)"
   ]
  },
  {
   "cell_type": "code",
   "execution_count": 67,
   "id": "83404846",
   "metadata": {},
   "outputs": [],
   "source": [
    "for num in range(len(total_type)):\n",
    "    data.loc[data['new_type'] == total_type.iat[num,0]].to_csv(f'{total_type.iat[num,0]}.csv', index=False)  "
   ]
  },
  {
   "cell_type": "code",
   "execution_count": null,
   "id": "2e8ae398",
   "metadata": {},
   "outputs": [],
   "source": []
  },
  {
   "cell_type": "code",
   "execution_count": null,
   "id": "6b08cb16",
   "metadata": {},
   "outputs": [],
   "source": []
  },
  {
   "cell_type": "code",
   "execution_count": null,
   "id": "1d4120e1",
   "metadata": {},
   "outputs": [],
   "source": []
  },
  {
   "cell_type": "code",
   "execution_count": null,
   "id": "cae7347c",
   "metadata": {},
   "outputs": [],
   "source": []
  },
  {
   "cell_type": "code",
   "execution_count": null,
   "id": "06f4091b",
   "metadata": {},
   "outputs": [],
   "source": []
  },
  {
   "cell_type": "code",
   "execution_count": null,
   "id": "a29e84a3",
   "metadata": {},
   "outputs": [],
   "source": []
  },
  {
   "cell_type": "code",
   "execution_count": null,
   "id": "ce9dbcc4",
   "metadata": {},
   "outputs": [],
   "source": []
  },
  {
   "cell_type": "code",
   "execution_count": null,
   "id": "9da72624",
   "metadata": {},
   "outputs": [],
   "source": []
  }
 ],
 "metadata": {
  "kernelspec": {
   "display_name": "Python 3",
   "language": "python",
   "name": "python3"
  },
  "language_info": {
   "codemirror_mode": {
    "name": "ipython",
    "version": 3
   },
   "file_extension": ".py",
   "mimetype": "text/x-python",
   "name": "python",
   "nbconvert_exporter": "python",
   "pygments_lexer": "ipython3",
   "version": "3.8.8"
  }
 },
 "nbformat": 4,
 "nbformat_minor": 5
}
